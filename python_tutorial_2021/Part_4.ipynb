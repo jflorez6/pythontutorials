{
 "cells": [
  {
   "cell_type": "markdown",
   "metadata": {},
   "source": [
    "# AST 376R - Introduction to Python Part 4\n",
    "## Original Notebook written by Jackie Champagne\n",
    "## Rewritten and adapted for AST 376R by Jonathan Florez\n",
    "\n",
    "# More Advanced Plotting Features"
   ]
  },
  {
   "cell_type": "code",
   "execution_count": null,
   "metadata": {},
   "outputs": [],
   "source": [
    "import numpy as np\n",
    "import matplotlib.pyplot as plt"
   ]
  },
  {
   "cell_type": "markdown",
   "metadata": {},
   "source": [
    "## Saving Figures to an Output File\n",
    "\n",
    "In the last notebook, we created a plot and displayed the output directly in the notebook. In research, however, it is likely you will often want to save a plot to an output file so you can store it, share it, and possibly use it in a research poster or article. In Python, you can save files as .png, .jpg, .pdf, or .ps format (among others) by simply specifying .fileformat at the end of your filename. \n",
    "\n",
    "Let's remake the exact same plot from the end of the last notebook and save it to an output file. Run the code in the cell below to go ahead and execute all the plotting commands. We will then save this figure as a .pdf file using the plt.savefig() command."
   ]
  },
  {
   "cell_type": "code",
   "execution_count": null,
   "metadata": {},
   "outputs": [],
   "source": [
    "a = np.array([0, 1, 2, 3])\n",
    "b = np.array([10, 9, 8, 7])\n",
    "\n",
    "plt.plot(a[:2], b[:2], 'ob', markersize=15, label='blue circles')\n",
    "plt.plot(a[2:], b[2:], '^m', label='pink triangles') \n",
    "plt.xlabel(r'$\\alpha$', fontsize=16)\n",
    "plt.ylabel(r'$\\beta$', fontsize=16)\n",
    "plt.title('scatter plot')\n",
    "plt.legend(loc=1, frameon=True)\n",
    "plt.savefig('fig1.pdf') ## whatever you enter in quotes will be output filename"
   ]
  },
  {
   "cell_type": "markdown",
   "metadata": {},
   "source": [
    "Check your directory with the ls command and you will find your new figure there. If you are finished editing this figure, it may be a good idea to execute plt.close() to avoid storing too many plots in Python."
   ]
  },
  {
   "cell_type": "code",
   "execution_count": null,
   "metadata": {},
   "outputs": [],
   "source": [
    "plt.close() # clear figure stored in plt"
   ]
  },
  {
   "cell_type": "markdown",
   "metadata": {},
   "source": [
    "### Question 1: Make this same figure but make pink triangles larger than blue circles and save as a .jpg file. You may start from scratch or use block of code above (recommended)"
   ]
  },
  {
   "cell_type": "code",
   "execution_count": null,
   "metadata": {},
   "outputs": [],
   "source": [
    "#solution here"
   ]
  },
  {
   "cell_type": "markdown",
   "metadata": {},
   "source": [
    "## Histograms\n",
    "A plot you'll probably make quite often is a histogram. For this, use plt.hist().\n",
    "\n",
    "    plt.hist(data, bins, density=True/False)\n",
    "    \n",
    "The \"bins\" argument can either be an array, or simply setting \"bins=x\" for a number of evenly spaced bins. \"Density\" will normalize your data to 1.\n",
    "\n",
    "For the following example we will generate some random data using numpy. "
   ]
  },
  {
   "cell_type": "code",
   "execution_count": null,
   "metadata": {},
   "outputs": [],
   "source": [
    "gaussian = np.random.normal(0, 2, 1000) \n",
    "#Generate random data drawn from a Gaussian distribution centered on 0 with a std. dev. of 2, sampled 1000 times\n",
    "\n",
    "plt.hist(gaussian, bins=20)\n",
    "plt.grid(True)\n",
    "plt.show() ## plt.show() is not necessary in Jupyter Notebooks but we include it for good practice!\n",
    "\n",
    "## if you are developing code in interactive python environment, say from\n",
    "## Terminal command line, then you want need to use plt.show() to \n",
    "## see figure (unless it is saved to output file)"
   ]
  },
  {
   "cell_type": "markdown",
   "metadata": {},
   "source": [
    "Just like with normal plotting, there are lots of customizable options for histograms, including:\n",
    "\n",
    "    facecolor: string argument giving color of histogram\n",
    "    edgecolor: string argument giving edge color\n",
    "    alpha: opacity, ranging from 0 to 1\n",
    "    hatch: a histogram filling style, such as '\\\\', '//', '.', '..', etc\n",
    "    histtype: bar, step\n",
    "    density: True/False \n",
    "    cumulative: True/False"
   ]
  },
  {
   "cell_type": "code",
   "execution_count": null,
   "metadata": {},
   "outputs": [],
   "source": [
    "plt.close() ## Close figure above so we can make more"
   ]
  },
  {
   "cell_type": "markdown",
   "metadata": {},
   "source": [
    "### Question 2: Generate 500 random draws from a Gaussian centered on 1 with a standard deviation of 1.5 and make a histogram from the resulting data. Add a title, x label, y label, and legend to your plot (you are free to choose what you call them). If you have extra time, try adding features like hatch style or histtype and see what happens."
   ]
  },
  {
   "cell_type": "code",
   "execution_count": null,
   "metadata": {},
   "outputs": [],
   "source": [
    "#solution here"
   ]
  },
  {
   "cell_type": "markdown",
   "metadata": {},
   "source": [
    "## Adding Nicely Formatted Labels and Legends to Figures\n",
    "\n",
    "We mentioned at the end of the Part 3 tutorial that you can use greek letters, as in LaTeX, to create nice labels for your plots. It turns out that Python formats all equations and math symbols using the exact same sytnax as LaTeX. Any mathematical symbols or expressions must be enclosed in $$ characters. \n",
    "\n",
    "You can refer to the LaTeX tutorial if you need examples of how mathematical expressions are formulated. You can also visit: https://oeis.org/wiki/List_of_LaTeX_mathematical_symbols for a list of math symbols used in LaTeX that will work in Python as well. As an example, the LaTeX (and Python) syntax for a few commonly used symbols or expressions in astronomy are the following:\n",
    "\n",
    "$\\log$ = \\log\\\n",
    "$M_{\\odot}$ = M_{\\odot}\\\n",
    "$M_{\\rm baryon}$ = M_{\\rm baryon}\\\n",
    "$10^{10}$ = 10^{10}\\\n",
    "$c = 3 \\times 10^{8}$ = 3 \\times 10^{8}\n"
   ]
  },
  {
   "cell_type": "markdown",
   "metadata": {},
   "source": [
    "### Question 3: Use arrays below to generate a scatter plot, similar to example at start of this tutorial. Make the points red triangles. Make the x-label: $\\log(M_{*} / M_{\\odot})$ and make the y label: $\\log(\\phi (M_*))$. Use large fontsizes to make them readable."
   ]
  },
  {
   "cell_type": "code",
   "execution_count": null,
   "metadata": {},
   "outputs": [],
   "source": [
    "## Below are the values of the stellar mass function from Figure 5 of Florez et al. (2020) at z=0.5-1.0 \n",
    "logMstar = [10.1, 10.3, 10.5, 10.7, 10.9, 11.1, 11.3, 11.5, 11.7, 11.9] ## Plot this on x-axis\n",
    "phi = [-2.55, -2.56, -2.57, -2.64, -2.80, -3.11, -3.58, -4.20, -5.03, -5.73] ## Plot this on y-axis\n",
    "\n",
    "##solution below"
   ]
  },
  {
   "cell_type": "code",
   "execution_count": null,
   "metadata": {},
   "outputs": [],
   "source": [
    "plt.close()"
   ]
  },
  {
   "cell_type": "markdown",
   "metadata": {},
   "source": [
    "### Question 4: Use arrays below to generate a projected correlation function plot. Convert the numbers in both arrays to log base 10 values. Make the y-label: $\\log (\\omega({r_p}))$ and make the x label: $\\log(r_p / \\rm{Mpc} \\ \\rm{h}^{-1})$. Use large fontsizes to make them readable. Make the data points green squares and add a dashed green line. Note that for long expressions in the labels, python sometimes requires an 'r' before the string quotes [e.g., plt.xlabel(r'some label')]"
   ]
  },
  {
   "cell_type": "code",
   "execution_count": null,
   "metadata": {},
   "outputs": [],
   "source": [
    "## Below are the correlation function values from Figure 16 of Zehavi et al. (2011) for brightest galaxies\n",
    "r_p = [0.17, 0.27, 0.42, 0.67, 1.1, 1.7, 2.7, 4.2, 6.7, 10.6, 16.9, 26.8, 42.3] ## make x-axis\n",
    "w_p = [2307, 1200, 713.4, 527.2, 274.1, 155.6, 109.7, 92.0, 56.1, 33.2, 19.4, 10.3, 5.21] ## make y-axis\n",
    "\n",
    "##solution below"
   ]
  },
  {
   "cell_type": "markdown",
   "metadata": {},
   "source": [
    "## Adding a Heat/Color Map to Your Figure\n",
    "\n",
    "A common operation when making figures in any programming language is adding a color map to your data points. This is often a useful way of introducing a third dimension to your plot or to add a \"density\" scale which informs us of where the data is most concentrated when you have too many objects on your scatter plot. The variable that will be used to map out the color scale can be used when calling the c='' key in plt.scatter()."
   ]
  },
  {
   "cell_type": "code",
   "execution_count": null,
   "metadata": {},
   "outputs": [],
   "source": [
    "## Making a figure with a color map\n",
    "\n",
    "x = np.random.normal(0, 2, 500) \n",
    "y = np.random.normal(0, 2, 500)\n",
    "z = x ** 2. - y ** 2.\n",
    "sc = plt.scatter(x,y,c=z, marker='o',cmap='jet') ##plt.scatter() has very similar usage to plt.plot()\n",
    "plt.colorbar(sc, label='z')\n",
    "plt.xlabel('x')\n",
    "plt.ylabel('y')\n",
    "plt.show()"
   ]
  },
  {
   "cell_type": "code",
   "execution_count": null,
   "metadata": {},
   "outputs": [],
   "source": [
    "plt.close()"
   ]
  },
  {
   "cell_type": "markdown",
   "metadata": {},
   "source": [
    "Python also lets you choose what color map you want to use. You can go super in-depth and customize your own color maps, but this is an highly advanced operation to perform. There are already tons of color maps to choose from, you can visit https://matplotlib.org/stable/tutorials/colors/colormaps.html to see what your options are. A few you can use are listed below:\n",
    "\n",
    "'viridis'\n",
    "'plasma'\n",
    "'inferno'\n",
    "'jet'\n",
    "'turbo'\n",
    "...\n",
    "\n",
    "To implement any of these, just use as plt.scatter(x,y,c=z,cmap='colormap name')"
   ]
  },
  {
   "cell_type": "markdown",
   "metadata": {},
   "source": [
    "### Question 5: Make the same scatter plot as above, but change z to be the distance from the (x,y) position to the center of the plot (i.e., the (0,0) position)). Add labels and a colorbar using the 'jet' color map."
   ]
  },
  {
   "cell_type": "code",
   "execution_count": null,
   "metadata": {},
   "outputs": [],
   "source": [
    "##Solution here"
   ]
  }
 ],
 "metadata": {
  "kernelspec": {
   "display_name": "Python 3",
   "language": "python",
   "name": "python3"
  },
  "language_info": {
   "codemirror_mode": {
    "name": "ipython",
    "version": 3
   },
   "file_extension": ".py",
   "mimetype": "text/x-python",
   "name": "python",
   "nbconvert_exporter": "python",
   "pygments_lexer": "ipython3",
   "version": "3.8.5"
  }
 },
 "nbformat": 4,
 "nbformat_minor": 4
}
