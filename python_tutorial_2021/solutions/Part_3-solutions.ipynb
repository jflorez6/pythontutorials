{
 "cells": [
  {
   "cell_type": "markdown",
   "metadata": {},
   "source": [
    "# AST 376R - Introduction to Python Part 3\n",
    "\n",
    "## Original Notebook written by Jackie Champagne\n",
    "## Rewritten and Adapted for AST 376R by Jonathan Florez\n",
    "\n",
    "# If Statements, For Loops, Functions & Plotting\n",
    "\n",
    "Today we will go over if statements, for loops, and some basic plotting\n",
    "\n",
    "First let's import some stuff we'll need today: numpy and matplotlib."
   ]
  },
  {
   "cell_type": "code",
   "execution_count": 12,
   "metadata": {},
   "outputs": [],
   "source": [
    "import numpy as np\n",
    "import matplotlib.pyplot as plt"
   ]
  },
  {
   "cell_type": "markdown",
   "metadata": {},
   "source": [
    "## If statement\n",
    "\n",
    "This is a conditional statement where the code will proceed only if the condition is met. Otherwise, the code will stop, or move on to the next condition.\n",
    "\n",
    "The simplest if statement is a true/false boolean, but you can impose any of the conditions that we learned recently. \n",
    "\n",
    "Remember that '==' is the equivalence condition, while '=' is a definition.\n",
    "\n",
    "The syntax is the following:\n",
    "\n",
    "    if condition is met:\n",
    "        do something\n",
    "        \n",
    "If you want to give the code a different option, use 'else'.\n",
    "\n",
    "    if condition is met:\n",
    "        do something\n",
    "    else:\n",
    "        do a different thing\n",
    "        \n",
    "Thus, the code will only move to 'else' if the first coniditon is false. To include multiple options, use 'elif', short for 'else if'. \n",
    "\n",
    "    if condition is met:\n",
    "        do something\n",
    "    elif different condition is met:\n",
    "        do something else\n",
    "    else:\n",
    "        do another thing\n",
    "        \n",
    "### Question 1: Try a simple one: if 1 equals 1, print \"yes!\" Write a second one such that if one does not equal one, print \"no!\" What happens?"
   ]
  },
  {
   "cell_type": "code",
   "execution_count": 13,
   "metadata": {},
   "outputs": [
    {
     "name": "stdout",
     "output_type": "stream",
     "text": [
      "yes!\n"
     ]
    }
   ],
   "source": [
    "# solution here\n",
    "if 1 == 1:\n",
    "    print(\"yes!\")\n",
    "    \n",
    "if 1 != 1:\n",
    "    print(\"no\")"
   ]
  },
  {
   "cell_type": "markdown",
   "metadata": {},
   "source": [
    "You probably noticed that the code stopped, since the statement is false. If we don't want the code to stop, we would put in an else statement. Try it again: \n",
    "\n",
    "### Change your if statement from above. If one does not equal one, print \"yes!\" If that's not true, print \"1 always equals 1, duh.\" "
   ]
  },
  {
   "cell_type": "code",
   "execution_count": 14,
   "metadata": {},
   "outputs": [
    {
     "name": "stdout",
     "output_type": "stream",
     "text": [
      "1 always equals 1, duh.\n"
     ]
    }
   ],
   "source": [
    "# solution here\n",
    "if 1 != 1:\n",
    "    print(\"yes!\")\n",
    "else:\n",
    "    print(\"1 always equals 1, duh.\")"
   ]
  },
  {
   "cell_type": "markdown",
   "metadata": {},
   "source": [
    "### Question 2: Let's review some boolean logic. Go ahead and define that b = 10. Write an if statement that checks whether b is equal to 10 or 2, and if so, print the value of b."
   ]
  },
  {
   "cell_type": "code",
   "execution_count": 15,
   "metadata": {},
   "outputs": [
    {
     "name": "stdout",
     "output_type": "stream",
     "text": [
      "b =  10\n"
     ]
    }
   ],
   "source": [
    "# solution here\n",
    "b = 10\n",
    "\n",
    "if b == 10 or b == 2:\n",
    "    print(\"b = \", b)"
   ]
  },
  {
   "cell_type": "markdown",
   "metadata": {},
   "source": [
    "Like we mentioned yesterday, the syntax of arrays and indices can all be combined. \n",
    "\n",
    "### Question 3: Create a linear array with 10 values between 0 and 1, inclusive.  Write an if statement that checks whether the last entry in the array is less than one. If so, have it print out the last entry. If not, have it print out \"[last entry] is not less than one.\" \n",
    "\n"
   ]
  },
  {
   "cell_type": "code",
   "execution_count": 16,
   "metadata": {},
   "outputs": [
    {
     "name": "stdout",
     "output_type": "stream",
     "text": [
      "1.0 is not less than one\n",
      "lin_arr[-1] = 1.0\n"
     ]
    }
   ],
   "source": [
    "# solution here\n",
    "lin_arr = np.linspace(0, 1, 10)\n",
    "\n",
    "if lin_arr[-1] < 1:\n",
    "    print(\"last entry =\", lin_arr[-1])\n",
    "else:\n",
    "    print(lin_arr[-1], \"is not less than one\")\n",
    "    \n",
    "print(\"lin_arr[-1] =\", lin_arr[-1] )"
   ]
  },
  {
   "cell_type": "markdown",
   "metadata": {},
   "source": [
    "## For loops\n",
    "\n",
    "For loops allow you to loop through the values in an array and perform some operation or check a condition. The basic syntax is \"for x in y.\" \n",
    "\n",
    "    for x in y:\n",
    "        do something\n",
    "        \n",
    "\"X\" refers to the element within \"Y\", so \"X\" can be any random character, but \"Y\" refers to the array or list you're looping over. \n",
    "\n",
    "### Question 4: Here's a list. Try writing a for loop that prints out each element of the list individually.\n",
    "\n"
   ]
  },
  {
   "cell_type": "code",
   "execution_count": 17,
   "metadata": {},
   "outputs": [
    {
     "name": "stdout",
     "output_type": "stream",
     "text": [
      "\n",
      "Beemovie:\n",
      "\n",
      "Barry B. Benson\n",
      "Vanessa Bloome\n",
      "Ray Liotta as Ray Liotta\n",
      "\n",
      "Shrek:\n",
      "\n",
      "Shrek\n",
      "Donkey\n",
      "Fiona\n",
      "Lord Farquaad\n"
     ]
    }
   ],
   "source": [
    "beemovie = ['Barry B. Benson', 'Vanessa Bloome', 'Ray Liotta as Ray Liotta']\n",
    "\n",
    "print(\"\\nBeemovie:\\n\")\n",
    "for bee in beemovie:\n",
    "    print(bee)\n",
    "\n",
    "shrek = ['Shrek', 'Donkey', 'Fiona', 'Lord Farquaad']\n",
    "\n",
    "#solution here\n",
    "print(\"\\nShrek:\\n\")\n",
    "for char in shrek:\n",
    "    print(char)"
   ]
  },
  {
   "cell_type": "markdown",
   "metadata": {},
   "source": [
    "Another way to write a for loop is to loop over the indices. This allows you, for instance, to index multiple arrays, or to keep track of both the index and the value of an array. You'll see what I mean in a minute. If you do it this way, the syntax goes like this:\n",
    "\n",
    "    for i in range(len(array)):\n",
    "        do something to array[i]\n",
    "        \n",
    "Now \"i\" is the index value rather than the value of the array. Here's an example:"
   ]
  },
  {
   "cell_type": "code",
   "execution_count": 18,
   "metadata": {},
   "outputs": [
    {
     "name": "stdout",
     "output_type": "stream",
     "text": [
      "a = 0.0\n",
      "a = 0.5\n",
      "a = 1.0\n",
      "a = 1.5\n",
      "a = 2.0\n",
      "a = 2.5\n",
      "a = 3.0\n",
      "a = 3.5\n",
      "a = 4.0\n",
      "a = 4.5\n",
      "a = 5.0\n",
      "a = 5.5\n",
      "a = 6.0\n",
      "a = 6.5\n",
      "a = 7.0\n",
      "a = 7.5\n",
      "a = 8.0\n",
      "a = 8.5\n",
      "a = 9.0\n",
      "a = 9.5\n",
      "a = 10.0\n",
      "the 0 th value of array is 0.0\n",
      "the 1 th value of array is 0.5\n",
      "the 2 th value of array is 1.0\n",
      "the 3 th value of array is 1.5\n",
      "the 4 th value of array is 2.0\n",
      "the 5 th value of array is 2.5\n",
      "the 6 th value of array is 3.0\n",
      "the 7 th value of array is 3.5\n",
      "the 8 th value of array is 4.0\n",
      "the 9 th value of array is 4.5\n",
      "the 10 th value of array is 5.0\n",
      "the 11 th value of array is 5.5\n",
      "the 12 th value of array is 6.0\n",
      "the 13 th value of array is 6.5\n",
      "the 14 th value of array is 7.0\n",
      "the 15 th value of array is 7.5\n",
      "the 16 th value of array is 8.0\n",
      "the 17 th value of array is 8.5\n",
      "the 18 th value of array is 9.0\n",
      "the 19 th value of array is 9.5\n",
      "the 20 th value of array is 10.0\n"
     ]
    }
   ],
   "source": [
    "array = np.linspace(0, 10, 21)\n",
    "\n",
    "for a in array:\n",
    "    print(\"a =\", a)\n",
    "\n",
    "for a in range(len(array)):\n",
    "    print(\"the\", a, \"th value of array is\", array[a])"
   ]
  },
  {
   "cell_type": "markdown",
   "metadata": {},
   "source": [
    "Combo time! You can also embed if statements into for loops, which checks the conditional statement for every value of the array. \n",
    "\n",
    "### Question 5. Create an array containing the values 0.5, 2, 3, 7. Loop over the array to check three different conditional statements inside the for loop:  check whether each value + 2 a) is less than 5, b) equal to 5, or c) greater than 5. If so, print out that statement (i.e., 'x + 2 < 5'). \n",
    "\n"
   ]
  },
  {
   "cell_type": "code",
   "execution_count": 22,
   "metadata": {},
   "outputs": [
    {
     "name": "stdout",
     "output_type": "stream",
     "text": [
      "0.5 + 2 < 5\n",
      "2 + 2 < 5\n",
      "3 + 2 = 5\n",
      "7 + 2 > 5\n"
     ]
    }
   ],
   "source": [
    "#solution here\n",
    "arr = [0.5, 2, 3, 7]\n",
    "\n",
    "for a in arr:\n",
    "    if a + 2 < 5:\n",
    "        print(a, '+ 2 < 5')\n",
    "    elif a + 2 == 5:\n",
    "        print(a, '+ 2 = 5')\n",
    "    else:\n",
    "        print(a, '+ 2 > 5')\n",
    "\n",
    "##some statement"
   ]
  },
  {
   "cell_type": "markdown",
   "metadata": {},
   "source": [
    "## Plotting!\n",
    "\n",
    "You will probably spend the majority of your time in astronomy making pretty plots so let's explore that now! You will need to use matplotlib.pyplot, which most people import at plt.\n",
    "\n",
    "The only required arguments are x-values and y-values, and anything else is #aesthetic.\n",
    "\n",
    "So the syntax is like this:\n",
    "\n",
    "    plt.plot(x, y, kwargs)\n",
    "    \n",
    "You can also do a log10 plot using plt.loglog().\n",
    "\n",
    "Some of the customizations include:\n",
    "\n",
    "    markerstyle: o (circles), ^ (triangles), * (stars), . (small points), etc\n",
    "    linestyle: - (solid line), -- (dotted line), : (fine dotted line), etc\n",
    "    color: b (blue), r (red), c (cyan), m (magenta), y (yellow), k (black), g (green), etc\n",
    "    alpha: opacity, a float set between 0 and 1\n",
    "    label: name of that dataset to be used in the legend\n",
    "    \n",
    "Every keyword argument besides alpha should be given as a string.\n",
    "    \n",
    "After plt.plot(), you might want to add some other information.\n",
    "\n",
    "    plt.xlabel() - x axis label\n",
    "    plt.ylabel() - y axis label\n",
    "    plt.axis([]) - in the brackets list x_lowerlimit, x_upperlimit, y_lowerlimit, y_upperlimit for axis display\n",
    "    plt.title() - plot title\n",
    "    plt.legend() - adds a legend, but plt.plot() must contain a \"label\" argument\n",
    "    plt.show() - displays your plot\n",
    "    \n",
    "Here's a detailed example. By the way, you can use shorthand for the marker/line style and the color, so instead of typing out \"markerstyle=blah, color=blah\", it will also understand simply \"ob\" (blue circles).\n",
    "\n",
    "Also, for labeling purposes, you can use Greek letters the same way as in LaTeX."
   ]
  },
  {
   "cell_type": "code",
   "execution_count": 23,
   "metadata": {},
   "outputs": [
    {
     "data": {
      "image/png": "[encoded data removed]",
      "text/plain": [
       "<Figure size 432x288 with 1 Axes>"
      ]
     },
     "metadata": {
      "needs_background": "light"
     },
     "output_type": "display_data"
    }
   ],
   "source": [
    "a = np.array([0, 1, 2, 3])\n",
    "b = np.array([10, 9, 8, 7])\n",
    "\n",
    "plt.plot(a[:2], b[:2], 'ob', markersize=15, label='blue circles') #plot the first two values as blue circles\n",
    "plt.plot(a[2:], b[2:], '^m', label='pink triangles') #plot the second two values as magenta triangles\n",
    "plt.xlabel(r'$\\alpha$', fontsize=16)\n",
    "plt.ylabel(r'$\\beta$', fontsize=16)\n",
    "plt.title('scatter plot')\n",
    "plt.legend(loc=1, frameon=True) #'loc' moves the legend around, frameon puts a box around the legend\n",
    "plt.show()"
   ]
  },
  {
   "cell_type": "markdown",
   "metadata": {},
   "source": [
    "### Question 7: Run your quadratic function for y = 2 * x^2 + 5, where x goes between -5 and 5. Plot it with a green dashed line and label it in the legend. Include labels and a title."
   ]
  },
  {
   "cell_type": "code",
   "execution_count": 24,
   "metadata": {},
   "outputs": [
    {
     "data": {
      "text/plain": [
       "Text(0.5, 1.0, 'Quadratic Plot')"
      ]
     },
     "execution_count": 24,
     "metadata": {},
     "output_type": "execute_result"
    },
    {
     "data": {
      "image/png": "[encoded data removed]",
      "text/plain": [
       "<Figure size 432x288 with 1 Axes>"
      ]
     },
     "metadata": {
      "needs_background": "light"
     },
     "output_type": "display_data"
    }
   ],
   "source": [
    "#solution here\n",
    "def quad(m,x,b):\n",
    "    return(m * x ** 2. + b)\n",
    "\n",
    "m = 2.\n",
    "b = 5.\n",
    "\n",
    "x = np.linspace(-5, 5, 100)\n",
    "\n",
    "y = quad(m,x,b)\n",
    "\n",
    "plt.plot(x, y, '--g', label='quadratic function')\n",
    "plt.legend()\n",
    "plt.xlabel('$x$',fontsize=16)\n",
    "plt.ylabel('$y = m x^2 + b$', fontsize = 16)\n",
    "plt.title('Quadratic Plot')"
   ]
  },
  {
   "cell_type": "markdown",
   "metadata": {},
   "source": [
    "Finally, to save a figure, write fig = plt.figure() before your plot, and before you call plt.show(), write fig.savefig('filename.jpg'). \n"
   ]
  }
 ],
 "metadata": {
  "kernelspec": {
   "display_name": "Python 3",
   "language": "python",
   "name": "python3"
  },
  "language_info": {
   "codemirror_mode": {
    "name": "ipython",
    "version": 3
   },
   "file_extension": ".py",
   "mimetype": "text/x-python",
   "name": "python",
   "nbconvert_exporter": "python",
   "pygments_lexer": "ipython3",
   "version": "3.8.5"
  }
 },
 "nbformat": 4,
 "nbformat_minor": 2
}
