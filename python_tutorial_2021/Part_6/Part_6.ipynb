{
 "cells": [
  {
   "cell_type": "markdown",
   "metadata": {},
   "source": [
    "# AST 376R - Introduction to Python Part 6\n",
    "\n",
    "## Original Notebook written by Jackie Champagne\n",
    "## Rewritten and Adapted for AST 376R by Jonathan Florez\n",
    "\n",
    "# Astropy, FITS files & Imaging\n",
    "\n",
    "Congrats on making it to the last part of this tutorial!\n",
    "\n",
    "A package we highly recommend you become familiar with is astropy. This includes a library of astronomical constants and unit conversions, coordinate conversions, cosmological calculations, image processing, and much more!\n",
    "\n",
    "## Pip install\n",
    "\n",
    "This leads us to a great opportunity to show you how to install additional packages to your Python distribution. If it is a large, well-known package (i.e., not developed by one person on github), you can usually install things using pip. Go ahead and open a terminal session. Once you are in bash and your Python environment, type\n",
    "\n",
    "    pip install astropy\n",
    "    \n",
    "This will automatically download and install astropy from the Internet! Note that this needs to be done outside of a Jupyter notebook (it'll throw an error if you try it). \n",
    "\n",
    "(Depending on the distribution of Python you have installed on your computer, it may or may not have come with astropy preloaded. If it's already there, then pip install will stop and say 'requirement already satisfied.')\n",
    "\n",
    "\n",
    "## Astropy: Units & Constants\n",
    "\n",
    "The most basic use for Astropy is units and constants. I highly recommend using the constants within Astropy so that a) you're not constantly Googling them, and b) they are precise and accurate. The constants are loaded with units as well, making conversions between them quite easy.\n",
    "\n",
    "One quick disclaimer is that the solar mass constant is slightly out of date, so researchers doing high-precision stellar work may need to keep that in mind.\n",
    "\n",
    "Load up the constants as well as our other usual packages:\n"
   ]
  },
  {
   "cell_type": "code",
   "execution_count": null,
   "metadata": {},
   "outputs": [],
   "source": [
    "from astropy import constants as const\n",
    "import numpy as np\n",
    "import matplotlib.pyplot as plt"
   ]
  },
  {
   "cell_type": "markdown",
   "metadata": {},
   "source": [
    "To call a constant, simply type const.(constant) where the symbols are generally the same as what's in your textbooks. For example, G is Newton's gravitational constant:"
   ]
  },
  {
   "cell_type": "code",
   "execution_count": null,
   "metadata": {},
   "outputs": [],
   "source": [
    "G = const.G\n",
    "\n",
    "print(G)\n",
    "const.G"
   ]
  },
  {
   "cell_type": "markdown",
   "metadata": {},
   "source": [
    "Calling the constant will give you a bunch of information about it, including its name, value, uncertainty, and SI unit. Astropy is not in cgs units, but it's easy to convert by adding .cgs to the end of the unit:"
   ]
  },
  {
   "cell_type": "code",
   "execution_count": null,
   "metadata": {},
   "outputs": [],
   "source": [
    "G_cgs = const.G.cgs\n",
    "\n",
    "print(G_cgs)"
   ]
  },
  {
   "cell_type": "markdown",
   "metadata": {},
   "source": [
    "You can also convert to specific units as you choose, by doing .to('new units'). For example:"
   ]
  },
  {
   "cell_type": "code",
   "execution_count": null,
   "metadata": {},
   "outputs": [],
   "source": [
    "G_weirdunits = const.G.to('kpc3 / (Msun Gyr2)')\n",
    "\n",
    "print(G_weirdunits)"
   ]
  },
  {
   "cell_type": "markdown",
   "metadata": {},
   "source": [
    "This can be very helpful when using normalized equations. Note that Python will have trouble with certain units: for example, it doesn't know it can cancel out Hz and seconds. Also, if there are units inside a log expression, it will complain. So if you already know your units work out and you just want the value, you can type .value!\n",
    "\n",
    "These can also be combined, like G.cgs.value."
   ]
  },
  {
   "cell_type": "code",
   "execution_count": null,
   "metadata": {},
   "outputs": [],
   "source": [
    "G_value = const.G.value\n",
    "\n",
    "print(G_value)"
   ]
  },
  {
   "cell_type": "markdown",
   "metadata": {},
   "source": [
    "If you do want to keep track of units, you can assign them by multiplying a float by the unit."
   ]
  },
  {
   "cell_type": "code",
   "execution_count": null,
   "metadata": {},
   "outputs": [],
   "source": [
    "from astropy import units as u\n",
    "\n",
    "R = 1.0 * u.kpc\n",
    "\n",
    "print(R)"
   ]
  },
  {
   "cell_type": "markdown",
   "metadata": {},
   "source": [
    "### Question 1: Using astropy, call the speed of light. Define a new speed of light variable by converting it to kilometers per Megayear. "
   ]
  },
  {
   "cell_type": "code",
   "execution_count": null,
   "metadata": {},
   "outputs": [],
   "source": [
    "# solution here"
   ]
  },
  {
   "cell_type": "markdown",
   "metadata": {},
   "source": [
    "## Astropy: Cosmological Calculations\n",
    "\n",
    "There's a good chance you will need to calculate things like luminosity distance, angular diameter distance, or age of the Universe, especially if you are doing high-redshift work. To do cosmology in astropy, first set the cosmological parameters, like so:"
   ]
  },
  {
   "cell_type": "code",
   "execution_count": null,
   "metadata": {},
   "outputs": [],
   "source": [
    "from astropy.cosmology import FlatLambdaCDM\n",
    "\n",
    "cosmo=FlatLambdaCDM(H0=70., Om0=0.3)"
   ]
  },
  {
   "cell_type": "markdown",
   "metadata": {},
   "source": [
    "This sets the Hubble constant to 70 km/s / Mpc and the matter density factor, $\\Omega_M$, to 0.3. The cosmological calculations are attributes of FlatLambdaCDM which we've set to \"cosmo.\" Here are a couple of examples:"
   ]
  },
  {
   "cell_type": "code",
   "execution_count": null,
   "metadata": {},
   "outputs": [],
   "source": [
    "LD4 = cosmo.luminosity_distance(4).to('kpc').value\n",
    "ADD4 = cosmo.angular_diameter_distance(4)\n",
    "\n",
    "print(LD4, ADD4)"
   ]
  },
  {
   "cell_type": "markdown",
   "metadata": {},
   "source": [
    "### Question 2: What is the age of the Universe at redshift 1, in Myr and Gyr?\n",
    "(Hint: use cosmo.age)"
   ]
  },
  {
   "cell_type": "code",
   "execution_count": null,
   "metadata": {},
   "outputs": [],
   "source": [
    "# solution here"
   ]
  },
  {
   "cell_type": "markdown",
   "metadata": {},
   "source": [
    "## FITS Files\n",
    "\n",
    "Astropy can read in FITS files, FITS stands for Flexible Image Transport System. FITS files are commonly used to store large tables of data, of many different variable types, and it is also a commonly used format for astronomical images. \n",
    "\n",
    "For both astronomical images and data tables, FITS is a useful format because it provides a lot of behind the scenes information. For images, the header in particular will usually give you information about the telescope the data is from, the reference position in the sky for the data, the pixel scale, the size of the image, and more. For large tables of data, the header can provide the column names, variable types, and in some instances the astronomical units that are used for different variables. In this tutorial, we will use astropy to read a large table of data in FITS format and we will use Aplpy to display a FITS image."
   ]
  },
  {
   "cell_type": "code",
   "execution_count": null,
   "metadata": {},
   "outputs": [],
   "source": [
    "from astropy.io import fits"
   ]
  },
  {
   "cell_type": "markdown",
   "metadata": {},
   "source": [
    "Let's step through how to work with the files I've given you to work with. First, open the file using fits.open(). To get some basic information about the file, type fitsfile.info()."
   ]
  },
  {
   "cell_type": "code",
   "execution_count": null,
   "metadata": {},
   "outputs": [],
   "source": [
    "hdu = fits.open('S1_AGN_cat.fits') # Catalog of luminous quasars\n",
    "hdu.info()"
   ]
  },
  {
   "cell_type": "markdown",
   "metadata": {},
   "source": [
    "The header for this file gives you some relevant information. We can see the format of all variables (K is integer, D is float), and we can see under Dimensions that this table has 938 rows, and 22 columns. In the cases of images, the header will contain far more relevant information about the image.\n",
    "\n",
    "For data tables, it is more useful to see the columns first:"
   ]
  },
  {
   "cell_type": "code",
   "execution_count": null,
   "metadata": {},
   "outputs": [],
   "source": [
    "hdu[1].columns"
   ]
  },
  {
   "cell_type": "markdown",
   "metadata": {},
   "source": [
    "Notice that we use hdu[1] before calling columns. This is becuase the first element of hdu contains some stored information that is not necessarily relevant to us. The second element of hdu contains the data table, which is why we view columns and table data calling hdu[1].\n",
    "\n",
    "We can call variables using hdu[1].data:"
   ]
  },
  {
   "cell_type": "code",
   "execution_count": null,
   "metadata": {},
   "outputs": [],
   "source": [
    "tb = hdu[1].data\n",
    "\n",
    "Mstar = tb['Mstar']\n",
    "print(Mstar)"
   ]
  },
  {
   "cell_type": "markdown",
   "metadata": {},
   "source": [
    "### Question 3: Read in the logLx variable from this FITS table. What is its max, min, and median value?"
   ]
  },
  {
   "cell_type": "code",
   "execution_count": null,
   "metadata": {},
   "outputs": [],
   "source": [
    "# solution here"
   ]
  },
  {
   "cell_type": "markdown",
   "metadata": {},
   "source": [
    "## Aplpy\n",
    "\n",
    "My favorite way to work with images in Python is the package aplpy (pronounced Apple Pie) which allows you to make lovely publication-worthy image plots. \n",
    "\n",
    "#### Pip install aplpy, and import it here."
   ]
  },
  {
   "cell_type": "code",
   "execution_count": null,
   "metadata": {},
   "outputs": [],
   "source": [
    "import aplpy"
   ]
  },
  {
   "cell_type": "markdown",
   "metadata": {},
   "source": [
    "To use aplpy, you don't need to go through the process of opening the FITS file and grabbing the data as in astropy. You will just open the file using FITSFigure. Let's check out this mysterious image:"
   ]
  },
  {
   "cell_type": "code",
   "execution_count": null,
   "metadata": {},
   "outputs": [],
   "source": [
    "galaxy = aplpy.FITSFigure('f001a066.fits')\n",
    "galaxy.show_colorscale(cmap='hot')\n",
    "\n",
    "plt.show()"
   ]
  },
  {
   "cell_type": "markdown",
   "metadata": {},
   "source": [
    "This is the tutorial included in the Aplpy documentation that nicely shows how you can overplot contours and include multiple layers. Take some time to play with this:"
   ]
  },
  {
   "cell_type": "code",
   "execution_count": null,
   "metadata": {},
   "outputs": [],
   "source": [
    "galaxy = aplpy.FITSFigure('aplpy_tutorial/fits/2MASS_k.fits')\n",
    "\n",
    "galaxy.show_rgb('aplpy_tutorial/graphics/2MASS_arcsinh_color.png')\n",
    "\n",
    "galaxy.show_contour('aplpy_tutorial/fits/mips_24micron.fits')\n",
    "\n",
    "data = np.loadtxt('aplpy_tutorial/data/yso_wcs_only.txt')\n",
    "ra, dec = data[:, 0], data[:, 1]\n",
    "\n",
    "galaxy.show_markers(ra, dec, layer='marker_set_1', edgecolor='red', facecolor='none', \n",
    "                    marker='o', s=10, alpha=0.5)\n",
    "\n",
    "plt.show()"
   ]
  }
 ],
 "metadata": {
  "kernelspec": {
   "display_name": "Python 3",
   "language": "python",
   "name": "python3"
  },
  "language_info": {
   "codemirror_mode": {
    "name": "ipython",
    "version": 3
   },
   "file_extension": ".py",
   "mimetype": "text/x-python",
   "name": "python",
   "nbconvert_exporter": "python",
   "pygments_lexer": "ipython3",
   "version": "3.7.4"
  }
 },
 "nbformat": 4,
 "nbformat_minor": 2
}
