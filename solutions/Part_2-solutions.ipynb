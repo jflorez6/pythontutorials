{
 "cells": [
  {
   "cell_type": "markdown",
   "metadata": {},
   "source": [
    "# AST 376R - Introduction to Python Part 2\n",
    "\n",
    "## Original Notebook written by Jackie Champagne\n",
    "## Rewritten and Adapted for AST 376R by Jonathan Florez\n",
    "\n",
    "# Functions, Reading & Writing Files\n",
    "\n",
    "Welcome back! By now you should be comfortable with some basic Python syntax. Let's get into something a bit more interesting today: defining functions, and reading+writing text files"
   ]
  },
  {
   "cell_type": "code",
   "execution_count": 33,
   "metadata": {},
   "outputs": [],
   "source": [
    "import numpy as np"
   ]
  },
  {
   "cell_type": "markdown",
   "metadata": {},
   "source": [
    "## User-defined functions\n",
    "\n",
    "This is where the true programming comes in. Basically any code you write will be a series of functions that accomplish some task. Functions include mathematical expressions, list/array sorting, MCMC codes, statistical operations, and many more. \n",
    "\n",
    "The syntax goes like this:\n",
    "\n",
    "    def function(a, b, c):\n",
    "        do something\n",
    "        return something\n",
    "    \n",
    "First you define the function using \"def\". The definition of the function includes the name of the function, which you will use to call it, and the arguments required for the function to work. You should leave the arguments as variables, and you will give the variables values when you call the function.\n",
    "\n",
    "Inside the function, some operation will be performed on the variables you've provided. However, the function won't actually give you any output unless you use return. Return tells the function what to give you back.\n",
    "\n",
    "Here's an example:"
   ]
  },
  {
   "cell_type": "code",
   "execution_count": 2,
   "metadata": {},
   "outputs": [],
   "source": [
    "def line(m, b, x):\n",
    "    y = m * x + b\n",
    "    return y"
   ]
  },
  {
   "cell_type": "markdown",
   "metadata": {},
   "source": [
    "Now, to run the function, you can supply values for the arguments. You can feed the function an array as well.\n",
    "\n"
   ]
  },
  {
   "cell_type": "code",
   "execution_count": 35,
   "metadata": {},
   "outputs": [
    {
     "name": "stdout",
     "output_type": "stream",
     "text": [
      "one_value:\n",
      "5\n",
      "array_of_values:\n",
      "[2.         2.05050505 2.1010101  2.15151515 2.2020202  2.25252525\n",
      " 2.3030303  2.35353535 2.4040404  2.45454545 2.50505051 2.55555556\n",
      " 2.60606061 2.65656566 2.70707071 2.75757576 2.80808081 2.85858586\n",
      " 2.90909091 2.95959596 3.01010101 3.06060606 3.11111111 3.16161616\n",
      " 3.21212121 3.26262626 3.31313131 3.36363636 3.41414141 3.46464646\n",
      " 3.51515152 3.56565657 3.61616162 3.66666667 3.71717172 3.76767677\n",
      " 3.81818182 3.86868687 3.91919192 3.96969697 4.02020202 4.07070707\n",
      " 4.12121212 4.17171717 4.22222222 4.27272727 4.32323232 4.37373737\n",
      " 4.42424242 4.47474747 4.52525253 4.57575758 4.62626263 4.67676768\n",
      " 4.72727273 4.77777778 4.82828283 4.87878788 4.92929293 4.97979798\n",
      " 5.03030303 5.08080808 5.13131313 5.18181818 5.23232323 5.28282828\n",
      " 5.33333333 5.38383838 5.43434343 5.48484848 5.53535354 5.58585859\n",
      " 5.63636364 5.68686869 5.73737374 5.78787879 5.83838384 5.88888889\n",
      " 5.93939394 5.98989899 6.04040404 6.09090909 6.14141414 6.19191919\n",
      " 6.24242424 6.29292929 6.34343434 6.39393939 6.44444444 6.49494949\n",
      " 6.54545455 6.5959596  6.64646465 6.6969697  6.74747475 6.7979798\n",
      " 6.84848485 6.8989899  6.94949495 7.        ]\n"
     ]
    }
   ],
   "source": [
    "one_value = line(1, 2, 3)\n",
    "array_of_values = line(1, 2, np.linspace(0, 5, 100))\n",
    "\n",
    "print(\"one_value:\") \n",
    "print(one_value) \n",
    "print(\"array_of_values:\")\n",
    "print(array_of_values)"
   ]
  },
  {
   "cell_type": "markdown",
   "metadata": {},
   "source": [
    "### Question 1: Write a function that takes the y-intercept, x value, and a constant m for a quadratic curve of the form y = mx^2 + b. "
   ]
  },
  {
   "cell_type": "code",
   "execution_count": 36,
   "metadata": {},
   "outputs": [
    {
     "name": "stdout",
     "output_type": "stream",
     "text": [
      "quadratic function at x1 = 3: 11.0\n",
      "quadratic function for array_of_values:\n",
      "[ 6.          6.20457096  6.41424344  6.62901745  6.84889297  7.07387001\n",
      "  7.30394858  7.53912866  7.77941026  8.02479339  8.27527803  8.5308642\n",
      "  8.79155188  9.05734109  9.32823181  9.60422406  9.88531782 10.17151311\n",
      " 10.46280992 10.75920824 11.06070809 11.36730946 11.67901235 11.99581675\n",
      " 12.31772268 12.64473013 12.9768391  13.31404959 13.6563616  14.00377512\n",
      " 14.35629017 14.71390674 15.07662483 15.44444444 15.81736557 16.19538823\n",
      " 16.5785124  16.96673809 17.3600653  17.75849403 18.16202428 18.57065606\n",
      " 18.98438935 19.40322416 19.82716049 20.25619835 20.69033772 21.12957861\n",
      " 21.57392103 22.02336496 22.47791042 22.93755739 23.40230589 23.8721559\n",
      " 24.34710744 24.82716049 25.31231507 25.80257117 26.29792878 26.79838792\n",
      " 27.30394858 27.81461075 28.33037445 28.85123967 29.37720641 29.90827467\n",
      " 30.44444444 30.98571574 31.53208856 32.0835629  32.64013876 33.20181614\n",
      " 33.76859504 34.34047546 34.9174574  35.49954086 36.08672584 36.67901235\n",
      " 37.27640037 37.87888991 38.48648097 39.09917355 39.71696766 40.33986328\n",
      " 40.96786042 41.60095909 42.23915927 42.88246097 43.5308642  44.18436894\n",
      " 44.84297521 45.50668299 46.1754923  46.84940312 47.52841547 48.21252933\n",
      " 48.90174472 49.59606163 50.29548005 51.        ]\n"
     ]
    }
   ],
   "source": [
    "#solution here\n",
    "m1 = 1.\n",
    "x1 = 3.\n",
    "b1 = 2.\n",
    "\n",
    "def quad(m, b, x):\n",
    "    y = m * x ** 2. + b\n",
    "    return y\n",
    "\n",
    "print(\"quadratic function at x1 = 3:\", quad(m1,b1,x1))\n",
    "print(\"quadratic function for array_of_values:\")\n",
    "print(quad(m1, b1, array_of_values))"
   ]
  },
  {
   "cell_type": "markdown",
   "metadata": {},
   "source": [
    "### Question 2: Write a function that takes any array and gives back the first value that array. You can define multiple arrays and feed them to the function to check that it works."
   ]
  },
  {
   "cell_type": "code",
   "execution_count": 38,
   "metadata": {},
   "outputs": [
    {
     "name": "stdout",
     "output_type": "stream",
     "text": [
      "x1_arr: [ 4.          5.14285714  6.28571429  7.42857143  8.57142857  9.71428571\n",
      " 10.85714286 12.         13.14285714 14.28571429 15.42857143 16.57142857\n",
      " 17.71428571 18.85714286 20.        ]\n",
      "x2_arr: [0, 1, 2, 3, 4]\n",
      "x3_arr: [ 1  3  5  7  9 11 13 15 17 19 21 23 25 27 29]\n",
      "first values: x1 = 4.0 x2 = 0 x3 = 1\n"
     ]
    }
   ],
   "source": [
    "x1_arr = np.linspace(4, 20, 15)\n",
    "print('x1_arr:', x1_arr)\n",
    "x2_arr = [0, 1, 2, 3, 4]\n",
    "print('x2_arr:', x2_arr)\n",
    "x3_arr = np.arange(1, 30, 2)\n",
    "print('x3_arr:', x3_arr)\n",
    "\n",
    "def first_val(array):\n",
    "    return array[0]\n",
    "\n",
    "print(\"first values:\", \"x1 =\", first_val(x1_arr), \"x2 =\", first_val(x2_arr), \"x3 =\", first_val(x3_arr))"
   ]
  },
  {
   "cell_type": "markdown",
   "metadata": {},
   "source": [
    "## Reading & Writing Files\n",
    "\n",
    "Before you write Python code to open and read data from a file, it is a good idea to look at the file to see what type of data it contains using the 'more' command. Using 'more' in a notebook brings up a window (as opposed to an output cell) that displays the text file. Recall that 'more' is a Linux command and works from your Terminal as well. In this example you can use the file 'sample1_data.dat', which has 10 rows of (x,y) values."
   ]
  },
  {
   "cell_type": "code",
   "execution_count": 9,
   "metadata": {},
   "outputs": [],
   "source": [
    "more sample1_data.dat"
   ]
  },
  {
   "cell_type": "markdown",
   "metadata": {},
   "source": [
    "Next we are going to use numpy.loadtxt(), or np.loadtxt(), to read the sample1_data.dat file, store the data into arrays, and display the values."
   ]
  },
  {
   "cell_type": "code",
   "execution_count": 15,
   "metadata": {},
   "outputs": [],
   "source": [
    "xf, yf = np.loadtxt('sample1_data.dat',unpack=True, dtype=float) ##Load as float\n",
    "xs, ys = np.loadtxt('sample1_data.dat',unpack=True, dtype=str) ##Load as strings\n",
    "x1 = np.loadtxt('sample1_data.dat',unpack=True,dtype=float,usecols=(0,))"
   ]
  },
  {
   "cell_type": "code",
   "execution_count": 16,
   "metadata": {},
   "outputs": [
    {
     "name": "stdout",
     "output_type": "stream",
     "text": [
      "xf = [ 45.33 216.5  417.74 245.17  63.12 147.54 364.12 304.44 461.19 233.61]\n",
      "yf = [ 23.14 121.22 491.21 103.17 291.64 269.97 455.56 126.93  21.44 279.18]\n",
      "xs = ['45.33' '216.50' '417.74' '245.17' '63.12' '147.54' '364.12' '304.44'\n",
      " '461.19' '233.61']\n",
      "ys = ['23.14' '121.22' '491.21' '103.17' '291.64' '269.97' '455.56' '126.93'\n",
      " '21.44' '279.18']\n",
      "x1 = [ 45.33 216.5  417.74 245.17  63.12 147.54 364.12 304.44 461.19 233.61]\n"
     ]
    }
   ],
   "source": [
    "print('xf =', xf)\n",
    "print('yf =', yf)\n",
    "print('xs =', xs)\n",
    "print('ys =', ys)\n",
    "print('x1 =', x1)"
   ]
  },
  {
   "cell_type": "markdown",
   "metadata": {},
   "source": [
    "You can view the length of each new variable using len()"
   ]
  },
  {
   "cell_type": "code",
   "execution_count": 17,
   "metadata": {},
   "outputs": [
    {
     "data": {
      "text/plain": [
       "10"
      ]
     },
     "execution_count": 17,
     "metadata": {},
     "output_type": "execute_result"
    }
   ],
   "source": [
    "len(xf)"
   ]
  },
  {
   "cell_type": "code",
   "execution_count": 18,
   "metadata": {},
   "outputs": [
    {
     "data": {
      "text/plain": [
       "10"
      ]
     },
     "execution_count": 18,
     "metadata": {},
     "output_type": "execute_result"
    }
   ],
   "source": [
    "len(yf)"
   ]
  },
  {
   "cell_type": "markdown",
   "metadata": {},
   "source": [
    "### *Note that you may use len() for many of the problems in HW 3!"
   ]
  },
  {
   "cell_type": "markdown",
   "metadata": {},
   "source": [
    "Writing the contents of variables to a file is another common use for Python. To see this in action, let's create two new variables (nx, ny) and save them to a file using np.savetxt()"
   ]
  },
  {
   "cell_type": "code",
   "execution_count": 19,
   "metadata": {},
   "outputs": [
    {
     "name": "stdout",
     "output_type": "stream",
     "text": [
      "nx = [ 1.   1.5  2.   2.5  3.   3.5  4.   4.5  5.   5.5  6.   6.5  7.   7.5\n",
      "  8.   8.5  9.   9.5 10.  10.5 11.  11.5 12.  12.5 13.  13.5 14.  14.5]\n",
      "ny = [21.  21.5 22.  22.5 23.  23.5 24.  24.5 25.  25.5 26.  26.5 27.  27.5\n",
      " 28.  28.5 29.  29.5 30.  30.5 31.  31.5 32.  32.5 33.  33.5 34.  34.5]\n"
     ]
    }
   ],
   "source": [
    "nx = np.arange(1, 15, 0.5)\n",
    "ny = np.arange(21, 35, 0.5)\n",
    "print('nx =', nx)\n",
    "print('ny =', ny)"
   ]
  },
  {
   "cell_type": "code",
   "execution_count": 39,
   "metadata": {},
   "outputs": [],
   "source": [
    "np.savetxt('simple_write.txt', np.c_[nx, ny], fmt='%6.2f')"
   ]
  },
  {
   "cell_type": "code",
   "execution_count": 21,
   "metadata": {},
   "outputs": [],
   "source": [
    "more simple_write.txt"
   ]
  },
  {
   "cell_type": "markdown",
   "metadata": {},
   "source": [
    "The 'fmt='%6.2f' specifies the data type of our stored variables. The data type specifier is usually preceded by the % character. In this case, fmt='%6.2f' means each column in the new text file has a fixed width of 6 spaces (specified by first number), has exactly 2 digits past the decimal point (second number) and is a float (specified by f). An integer number would have an i at the end of the fmt='' key, instead of an f. In the case of an integer, the second number would actually specify how many integer digits we are going to be keep in the output saved file.  "
   ]
  },
  {
   "cell_type": "markdown",
   "metadata": {},
   "source": [
    "### Question 3: What is the length of nx and ny? "
   ]
  },
  {
   "cell_type": "code",
   "execution_count": 22,
   "metadata": {},
   "outputs": [
    {
     "name": "stdout",
     "output_type": "stream",
     "text": [
      "length of nx: 28\n",
      "length of ny: 28\n"
     ]
    }
   ],
   "source": [
    "#solution here\n",
    "print(\"length of nx:\", len(nx))\n",
    "print(\"length of ny:\", len(ny))"
   ]
  },
  {
   "cell_type": "markdown",
   "metadata": {},
   "source": [
    "### Question 4: Write nx and ny to a new file, 'simple_rewrite.txt' storing nx and ny as integers"
   ]
  },
  {
   "cell_type": "code",
   "execution_count": 27,
   "metadata": {},
   "outputs": [],
   "source": [
    "#solution here\n",
    "np.savetxt('simple_rewrite.txt', np.c_[nx, ny], fmt='%i')\n",
    "np.savetxt('rewrite_str.txt', np.c_[nx, ny], fmt='%s')"
   ]
  },
  {
   "cell_type": "code",
   "execution_count": 24,
   "metadata": {},
   "outputs": [],
   "source": [
    "more simple_rewrite.txt"
   ]
  },
  {
   "cell_type": "code",
   "execution_count": 28,
   "metadata": {},
   "outputs": [],
   "source": [
    "more rewrite_str.txt"
   ]
  },
  {
   "cell_type": "code",
   "execution_count": 32,
   "metadata": {},
   "outputs": [
    {
     "name": "stdout",
     "output_type": "stream",
     "text": [
      "example of np.c_ :\n",
      "[[ 1.  21. ]\n",
      " [ 1.5 21.5]\n",
      " [ 2.  22. ]\n",
      " [ 2.5 22.5]\n",
      " [ 3.  23. ]\n",
      " [ 3.5 23.5]\n",
      " [ 4.  24. ]\n",
      " [ 4.5 24.5]\n",
      " [ 5.  25. ]\n",
      " [ 5.5 25.5]\n",
      " [ 6.  26. ]\n",
      " [ 6.5 26.5]\n",
      " [ 7.  27. ]\n",
      " [ 7.5 27.5]\n",
      " [ 8.  28. ]\n",
      " [ 8.5 28.5]\n",
      " [ 9.  29. ]\n",
      " [ 9.5 29.5]\n",
      " [10.  30. ]\n",
      " [10.5 30.5]\n",
      " [11.  31. ]\n",
      " [11.5 31.5]\n",
      " [12.  32. ]\n",
      " [12.5 32.5]\n",
      " [13.  33. ]\n",
      " [13.5 33.5]\n",
      " [14.  34. ]\n",
      " [14.5 34.5]]\n"
     ]
    }
   ],
   "source": [
    "print(\"example of np.c_ :\") \n",
    "print(np.c_[nx, ny])"
   ]
  }
 ],
 "metadata": {
  "kernelspec": {
   "display_name": "Python 3",
   "language": "python",
   "name": "python3"
  },
  "language_info": {
   "codemirror_mode": {
    "name": "ipython",
    "version": 3
   },
   "file_extension": ".py",
   "mimetype": "text/x-python",
   "name": "python",
   "nbconvert_exporter": "python",
   "pygments_lexer": "ipython3",
   "version": "3.8.5"
  }
 },
 "nbformat": 4,
 "nbformat_minor": 2
}
